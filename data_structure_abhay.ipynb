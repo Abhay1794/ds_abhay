{
 "cells": [
  {
   "cell_type": "code",
   "execution_count": 1,
   "id": "ef7726c7-c330-4409-b2bf-8876f6e1bc11",
   "metadata": {},
   "outputs": [
    {
     "data": {
      "text/plain": [
       "'my name is Abhay '"
      ]
     },
     "execution_count": 1,
     "metadata": {},
     "output_type": "execute_result"
    }
   ],
   "source": [
    "#1.Discuss string slicing and provide examples\n",
    "\n",
    "#string slicing allows you to extract a portion of a string by specifing a start and end index.\n",
    "#examples:\n",
    "\n",
    "intro=\"my name is Abhay and my brother name is darshan\"\n",
    "intro[0:17]"
   ]
  },
  {
   "cell_type": "code",
   "execution_count": 2,
   "id": "4e4ef0db-a7f8-442a-824f-51e9ff95ac4a",
   "metadata": {},
   "outputs": [
    {
     "data": {
      "text/plain": [
       "'and my brother name is darshan'"
      ]
     },
     "execution_count": 2,
     "metadata": {},
     "output_type": "execute_result"
    }
   ],
   "source": [
    "intro[17:]"
   ]
  },
  {
   "cell_type": "code",
   "execution_count": 7,
   "id": "8cb7d162-5217-4edd-86ce-2abdcf2a184d",
   "metadata": {},
   "outputs": [
    {
     "data": {
      "text/plain": [
       "' Abhay and my brother'"
      ]
     },
     "execution_count": 7,
     "metadata": {},
     "output_type": "execute_result"
    }
   ],
   "source": [
    "intro[10:31]"
   ]
  },
  {
   "cell_type": "code",
   "execution_count": 8,
   "id": "a994fb55-9d21-4b8b-bae2-1b6438abbdd9",
   "metadata": {},
   "outputs": [],
   "source": [
    "#2.explain the key features of lists in Python\n",
    "\n",
    "#list stores heterogenous data\n",
    "#They are ordered collection of elements\n",
    "#lists can be of any data type\n",
    "#They are mutable"
   ]
  },
  {
   "cell_type": "code",
   "execution_count": 10,
   "id": "f967ca5f-85cc-4b46-a569-c736bd0c51fe",
   "metadata": {},
   "outputs": [
    {
     "data": {
      "text/plain": [
       "'Virat_kohli'"
      ]
     },
     "execution_count": 10,
     "metadata": {},
     "output_type": "execute_result"
    }
   ],
   "source": [
    "#3. Describe how to access modify and delete elements in a list with examples\n",
    "#example:\n",
    "\n",
    "list=[\"pwskills\",\"Virat_kohli\",24,90,0,7.4,True,3+5j]\n",
    "#To access elements\n",
    "list[1]"
   ]
  },
  {
   "cell_type": "code",
   "execution_count": 11,
   "id": "0c8b4f31-9a68-4d96-8466-5598d5c6186f",
   "metadata": {},
   "outputs": [
    {
     "data": {
      "text/plain": [
       "(3+5j)"
      ]
     },
     "execution_count": 11,
     "metadata": {},
     "output_type": "execute_result"
    }
   ],
   "source": [
    "list[-1]"
   ]
  },
  {
   "cell_type": "code",
   "execution_count": 14,
   "id": "779ea15e-8f8e-4c8c-af73-5a7fabd9e2a1",
   "metadata": {},
   "outputs": [],
   "source": [
    "#To modify elements\n",
    "list.append(\"mango\")"
   ]
  },
  {
   "cell_type": "code",
   "execution_count": 15,
   "id": "818b0333-2c7a-4fa4-a2cb-a744bd0df7a5",
   "metadata": {},
   "outputs": [
    {
     "data": {
      "text/plain": [
       "['pwskills', 'Virat_kohli', 24, 90, 0, 7.4, True, (3+5j), 'mango']"
      ]
     },
     "execution_count": 15,
     "metadata": {},
     "output_type": "execute_result"
    }
   ],
   "source": [
    "list"
   ]
  },
  {
   "cell_type": "code",
   "execution_count": 16,
   "id": "f39031c0-b01e-457a-8778-8e52804e846d",
   "metadata": {},
   "outputs": [],
   "source": [
    "list.append(\"freefire\")"
   ]
  },
  {
   "cell_type": "code",
   "execution_count": 17,
   "id": "7e2e49c9-51ec-4a78-be0d-d4bf0f502565",
   "metadata": {},
   "outputs": [
    {
     "data": {
      "text/plain": [
       "['pwskills', 'Virat_kohli', 24, 90, 0, 7.4, True, (3+5j), 'mango', 'freefire']"
      ]
     },
     "execution_count": 17,
     "metadata": {},
     "output_type": "execute_result"
    }
   ],
   "source": [
    "list"
   ]
  },
  {
   "cell_type": "code",
   "execution_count": 20,
   "id": "27a0e3d9-66f0-45e5-a62f-9f367c83e0c4",
   "metadata": {},
   "outputs": [],
   "source": [
    "#To delete elements\n",
    "list.remove(7.4)"
   ]
  },
  {
   "cell_type": "code",
   "execution_count": 21,
   "id": "d857bc4b-f0b9-44a0-8fb3-d506c7dc5810",
   "metadata": {},
   "outputs": [
    {
     "data": {
      "text/plain": [
       "['pwskills', 'Virat_kohli', 24, 90, 0, True, (3+5j), 'mango', 'freefire']"
      ]
     },
     "execution_count": 21,
     "metadata": {},
     "output_type": "execute_result"
    }
   ],
   "source": [
    "list"
   ]
  },
  {
   "cell_type": "code",
   "execution_count": 22,
   "id": "785b31e3-06ae-4b1e-a033-932847ba37f5",
   "metadata": {},
   "outputs": [],
   "source": [
    "list.remove(\"freefire\")"
   ]
  },
  {
   "cell_type": "code",
   "execution_count": 23,
   "id": "d0685e52-7d9b-4e66-8322-1a7639330e89",
   "metadata": {},
   "outputs": [
    {
     "data": {
      "text/plain": [
       "['pwskills', 'Virat_kohli', 24, 90, 0, True, (3+5j), 'mango']"
      ]
     },
     "execution_count": 23,
     "metadata": {},
     "output_type": "execute_result"
    }
   ],
   "source": [
    "list"
   ]
  },
  {
   "cell_type": "code",
   "execution_count": 5,
   "id": "e2660727-6483-4163-8d1b-84252798ec71",
   "metadata": {},
   "outputs": [],
   "source": [
    "#4.Compare and contrast tuples and lists with examples\n",
    "\n",
    "#Tuples:\n",
    "#Tuples are ordered collection of elements , heterogenous\n",
    "#They are immutable\n",
    "#use tuples as data structure where you don't want to modify the data \n",
    "\n",
    "#Example:\n",
    "a=(\"Abhay\",\"tomato\",78,True,4.5)\n",
    "a[3]=\"potato\"\n",
    "\n",
    "#when you try to modify tuple it will throw an error because they are immutable "
   ]
  },
  {
   "cell_type": "code",
   "execution_count": 6,
   "id": "1ff1282d-fbc3-4f4d-8920-81ee95a52c4b",
   "metadata": {},
   "outputs": [
    {
     "data": {
      "text/plain": [
       "'rohit_sharma'"
      ]
     },
     "execution_count": 6,
     "metadata": {},
     "output_type": "execute_result"
    }
   ],
   "source": [
    "#Lists:\n",
    "#list is an ordered collection of elements that can be of any data type \n",
    "#they are mutable \n",
    "#In list we can modify data \n",
    "\n",
    "#example:\n",
    "\n",
    "m=[\"gopi\",\"suman\",33,True,8.9,\"rohit_sharma\"]\n",
    "m[-1]"
   ]
  },
  {
   "cell_type": "code",
   "execution_count": 11,
   "id": "1f47ada2-0f9d-4035-9554-98655cb56662",
   "metadata": {},
   "outputs": [
    {
     "data": {
      "text/plain": [
       "{1, 2, 3, 'pw', 'tq'}"
      ]
     },
     "execution_count": 11,
     "metadata": {},
     "output_type": "execute_result"
    }
   ],
   "source": [
    "#5.Describe the key features of sets and provide examples of their use\n",
    "\n",
    "#Sets are unordered \n",
    "#They are unique collection of elements\n",
    "#they doesen't allow duplicate elements\n",
    "#indexing will not work as they are unordered\n",
    "\n",
    "#Examples:\n",
    "set={1,1,2,3,2,2,2,\"pw\",\"pw\",\"tq\",\"tq\"}\n",
    "set"
   ]
  },
  {
   "cell_type": "code",
   "execution_count": 12,
   "id": "e73391b3-e36d-4a14-ac84-dfd9d2e4347b",
   "metadata": {},
   "outputs": [],
   "source": [
    "set.add(2000) #not compulsory that it will add to the last of set"
   ]
  },
  {
   "cell_type": "code",
   "execution_count": 13,
   "id": "d37521aa-95ca-4b17-8f4f-2d505566836e",
   "metadata": {},
   "outputs": [
    {
     "data": {
      "text/plain": [
       "{1, 2, 2000, 3, 'pw', 'tq'}"
      ]
     },
     "execution_count": 13,
     "metadata": {},
     "output_type": "execute_result"
    }
   ],
   "source": [
    "set"
   ]
  },
  {
   "cell_type": "code",
   "execution_count": 14,
   "id": "a72ca43c-930a-45e1-b2a2-582e49214e51",
   "metadata": {},
   "outputs": [
    {
     "data": {
      "text/plain": [
       "{60, 63, 77, 80, 90, 92, 99}"
      ]
     },
     "execution_count": 14,
     "metadata": {},
     "output_type": "execute_result"
    }
   ],
   "source": [
    "students_marks={99,99,92,90,90,80,77,77,63,60,60,60}\n",
    "students_marks"
   ]
  },
  {
   "cell_type": "code",
   "execution_count": 16,
   "id": "a0114177-1045-429a-ba07-f24a49e5f829",
   "metadata": {},
   "outputs": [],
   "source": [
    "#Hence we can say sets are unordered "
   ]
  },
  {
   "cell_type": "code",
   "execution_count": 18,
   "id": "fc01bad4-aa62-40d6-8c1f-77c78117bed2",
   "metadata": {},
   "outputs": [
    {
     "data": {
      "text/plain": [
       "('Sinchana', 129, True, 5.6)"
      ]
     },
     "execution_count": 18,
     "metadata": {},
     "output_type": "execute_result"
    }
   ],
   "source": [
    "#6.Discuss the use cases of tuples and sets in Python programming\n",
    "\n",
    "#Use cases of tuple:\n",
    "#tuple are used to store heterogenous data which are immutable \n",
    "#Example:\n",
    "\n",
    "a=(\"Sinchana\",129,True,5.6)\n",
    "a"
   ]
  },
  {
   "cell_type": "code",
   "execution_count": null,
   "id": "fe647e36-d998-4288-a1bc-8cc02291f017",
   "metadata": {},
   "outputs": [],
   "source": [
    "a[2]=\"Bajaj\" #when you try to modify tple it will throw an error as tuple are immutable"
   ]
  },
  {
   "cell_type": "code",
   "execution_count": 24,
   "id": "5e67a780-5478-4448-bef8-7f3cdc019015",
   "metadata": {},
   "outputs": [],
   "source": [
    "#Use cases of sets\n",
    "#Set is used to access unique elements \n",
    "#example:\n",
    "\n",
    "fruit_basket={\"banana\",\"apple\",\"grapes\",\"grapes\",\"grapes\",\"apple\",\"pomogranate\",\"banana\"}"
   ]
  },
  {
   "cell_type": "code",
   "execution_count": 28,
   "id": "1f158c0f-c3f2-4e83-b9df-8d0ec2b20eee",
   "metadata": {},
   "outputs": [
    {
     "data": {
      "text/plain": [
       "{'apple', 'banana', 'grapes', 'pomogranate'}"
      ]
     },
     "execution_count": 28,
     "metadata": {},
     "output_type": "execute_result"
    }
   ],
   "source": [
    "fruit_basket "
   ]
  },
  {
   "cell_type": "code",
   "execution_count": 37,
   "id": "71a672a3-b097-4808-8d05-b6b7c17afeab",
   "metadata": {},
   "outputs": [
    {
     "data": {
      "text/plain": [
       "{'Name': 'bharath', 'Age': '18', 'wife_name': 'Bharvi', 'salary': '50000'}"
      ]
     },
     "execution_count": 37,
     "metadata": {},
     "output_type": "execute_result"
    }
   ],
   "source": [
    "#7.`Describe how to add modify and delete items in a dictionary with examples\n",
    "\n",
    "d={\"Name\":\"bharath\",\"Age\":\"18\",\"wife_name\":\"Bharvi\"}\n",
    "\n",
    "#To add items in a dictionary\n",
    "d[\"salary\"]=\"50000\"\n",
    "d"
   ]
  },
  {
   "cell_type": "code",
   "execution_count": 38,
   "id": "d411f8a7-98fe-4481-9646-0473fcfa2d99",
   "metadata": {},
   "outputs": [
    {
     "data": {
      "text/plain": [
       "{'Name': 'bharath', 'Age': '18', 'wife_name': 'pooja', 'salary': '50000'}"
      ]
     },
     "execution_count": 38,
     "metadata": {},
     "output_type": "execute_result"
    }
   ],
   "source": [
    "#To modify items in a dictionary \n",
    "d[\"wife_name\"]=\"pooja\"\n",
    "d"
   ]
  },
  {
   "cell_type": "code",
   "execution_count": 39,
   "id": "cc8a23aa-028d-43f6-a0fb-18bd7e2c42c7",
   "metadata": {},
   "outputs": [
    {
     "data": {
      "text/plain": [
       "{'Name': 'bharath', 'wife_name': 'pooja', 'salary': '50000'}"
      ]
     },
     "execution_count": 39,
     "metadata": {},
     "output_type": "execute_result"
    }
   ],
   "source": [
    "#To delete items in a dictionary\n",
    "del d[\"Age\"]\n",
    "d"
   ]
  },
  {
   "cell_type": "code",
   "execution_count": 41,
   "id": "91112cfa-e1bb-489a-9d08-54fcab42f7c0",
   "metadata": {},
   "outputs": [
    {
     "data": {
      "text/plain": [
       "'Abhay'"
      ]
     },
     "execution_count": 41,
     "metadata": {},
     "output_type": "execute_result"
    }
   ],
   "source": [
    "#8. Discuss the importance of dictionary keys being immutable and provide examples\n",
    "\n",
    "#Dictionary is a data structure that stores data as key value pair.\n",
    "#keys are unique and immutable\n",
    "#this means if you iterate over a dictionary the item will be returned in the order they were added\n",
    "\n",
    "#Examples:\n",
    "Resume={\"Name\":\"Abhay\",\"Age\":\"18\",\"email\":\"abhayshet@gmail.com\"}\n",
    "Resume[\"Name\"]"
   ]
  },
  {
   "cell_type": "code",
   "execution_count": 42,
   "id": "af76cd27-a56b-4591-b796-95ca113aef78",
   "metadata": {},
   "outputs": [
    {
     "data": {
      "text/plain": [
       "'abhayshet@gmail.com'"
      ]
     },
     "execution_count": 42,
     "metadata": {},
     "output_type": "execute_result"
    }
   ],
   "source": [
    "Resume[\"email\"]"
   ]
  },
  {
   "cell_type": "code",
   "execution_count": null,
   "id": "08821b20-86a7-4fbc-9ffc-cb30c0d81a54",
   "metadata": {},
   "outputs": [],
   "source": [
    "Resume[\"18\"] #if you try to execute it will throw an error\n",
    "# Becasue you can't access key using value , you can only access value using key\n",
    "#hence we can say keys are immutable "
   ]
  }
 ],
 "metadata": {
  "kernelspec": {
   "display_name": "Python 3 (ipykernel)",
   "language": "python",
   "name": "python3"
  },
  "language_info": {
   "codemirror_mode": {
    "name": "ipython",
    "version": 3
   },
   "file_extension": ".py",
   "mimetype": "text/x-python",
   "name": "python",
   "nbconvert_exporter": "python",
   "pygments_lexer": "ipython3",
   "version": "3.10.8"
  }
 },
 "nbformat": 4,
 "nbformat_minor": 5
}
